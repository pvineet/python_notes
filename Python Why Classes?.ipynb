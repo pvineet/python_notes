{
 "cells": [
  {
   "cell_type": "markdown",
   "metadata": {},
   "source": [
    "Let us write a program to manage books at a library. We want to list\n",
    "- Name of the book\n",
    "- Author\n",
    "- ISBN number\n",
    "- Availablilty\n",
    "\n",
    "Using the current knowledge we have the best way to implement this is using dictionaries. Since ISBN numbers are unique we can use this as the key for our dictionary"
   ]
  },
  {
   "cell_type": "code",
   "execution_count": 42,
   "metadata": {},
   "outputs": [],
   "source": [
    "#library = {ISBN:{'name' : \"\", 'Author' : \"\", Availability}}\n",
    "library = {}\n",
    "library[0] = {'name' : \"Zen and the art of motorcycle maintenance\", 'author' : ['Robert Pirsig'], 'available' : True}\n",
    "library[1] = {'name' : \"Intro to Algorithms\", 'author' : ['Cormen', 'Leiserson'], 'available' : True}\n",
    "library[2] = {'name' : \"Computer Organization and Design\", 'author' : ['Hennessey','Patterson'], 'available' : True}"
   ]
  },
  {
   "cell_type": "raw",
   "metadata": {},
   "source": [
    "library"
   ]
  },
  {
   "cell_type": "markdown",
   "metadata": {},
   "source": [
    "Let us write a function to check out a book from the library"
   ]
  },
  {
   "cell_type": "code",
   "execution_count": 39,
   "metadata": {},
   "outputs": [],
   "source": [
    "def check_out(library, name):\n",
    "    for k,v in library.items():\n",
    "        print(v['available'])\n",
    "        if v['name'] == name and v['available'] == True:\n",
    "            v['available'] = False\n",
    "            return name+\" checked out\"\n",
    "        else:\n",
    "            return name+\" not found\""
   ]
  },
  {
   "cell_type": "code",
   "execution_count": 40,
   "metadata": {},
   "outputs": [
    {
     "name": "stdout",
     "output_type": "stream",
     "text": [
      "True\n",
      "Zen and the art of motorcycle maintenance checked out\n"
     ]
    }
   ],
   "source": [
    "print(check_out(library, \"Zen and the art of motorcycle maintenance\"))"
   ]
  },
  {
   "cell_type": "code",
   "execution_count": 41,
   "metadata": {},
   "outputs": [
    {
     "data": {
      "text/plain": [
       "{0: {'author': ['Robert Pirsig'],\n",
       "  'available': False,\n",
       "  'name': 'Zen and the art of motorcycle maintenance'},\n",
       " 1: {'author': ['Cormen', 'Leiserson'],\n",
       "  'available': True,\n",
       "  'name': 'Intro to Algorithms'},\n",
       " 2: {'author': ['Hennessey', 'Patterson'],\n",
       "  'available': True,\n",
       "  'name': 'Computer Architecture and Design'}}"
      ]
     },
     "execution_count": 41,
     "metadata": {},
     "output_type": "execute_result"
    }
   ],
   "source": [
    "library"
   ]
  },
  {
   "cell_type": "markdown",
   "metadata": {},
   "source": [
    "Now let us say our library starts adding ebooks the way SCU library does. Ebooks are avaialable for any number of users. We need to add a bunch of new keys in the inner dictionary like\n",
    "- type - Hard bound/paperback/ebook\n",
    "- url field to be returned on check_out for ebooks\n",
    "- Imagine the mess if we have to have multiple copies"
   ]
  },
  {
   "cell_type": "code",
   "execution_count": null,
   "metadata": {},
   "outputs": [],
   "source": []
  }
 ],
 "metadata": {
  "kernelspec": {
   "display_name": "Python 3",
   "language": "python",
   "name": "python3"
  },
  "language_info": {
   "codemirror_mode": {
    "name": "ipython",
    "version": 3
   },
   "file_extension": ".py",
   "mimetype": "text/x-python",
   "name": "python",
   "nbconvert_exporter": "python",
   "pygments_lexer": "ipython3",
   "version": "3.6.4"
  }
 },
 "nbformat": 4,
 "nbformat_minor": 2
}
