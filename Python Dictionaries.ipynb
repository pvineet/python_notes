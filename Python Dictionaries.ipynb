{
 "cells": [
  {
   "cell_type": "markdown",
   "metadata": {},
   "source": [
    "### Dictionaries\n",
    "Dictionaries are data structures to store key value pairs/Hash Maps"
   ]
  },
  {
   "cell_type": "code",
   "execution_count": 2,
   "metadata": {},
   "outputs": [
    {
     "name": "stdout",
     "output_type": "stream",
     "text": [
      "{'Mallards': 5, 'Herons': 10, 'Spoonbills': 3, 'Sparrows': 20}\n"
     ]
    }
   ],
   "source": [
    "# A list of birds seen on a survey\n",
    "d = {'Mallards' : 5, 'Herons' : 10, 'Spoonbills' : 3, 'Sparrows' : 20}\n",
    "print(d)"
   ]
  },
  {
   "cell_type": "code",
   "execution_count": 3,
   "metadata": {},
   "outputs": [
    {
     "name": "stdout",
     "output_type": "stream",
     "text": [
      "Number of Herons seen  10\n"
     ]
    }
   ],
   "source": [
    "print(\"Number of Herons seen \",d['Herons'])"
   ]
  },
  {
   "cell_type": "markdown",
   "metadata": {},
   "source": [
    "To loop through all the entries in the dictionary"
   ]
  },
  {
   "cell_type": "code",
   "execution_count": 4,
   "metadata": {},
   "outputs": [
    {
     "name": "stdout",
     "output_type": "stream",
     "text": [
      "Mallards 5\n",
      "Herons 10\n",
      "Spoonbills 3\n",
      "Sparrows 20\n"
     ]
    }
   ],
   "source": [
    "for key,value in d.items():\n",
    "    print(key,value)"
   ]
  },
  {
   "cell_type": "code",
   "execution_count": 5,
   "metadata": {},
   "outputs": [
    {
     "data": {
      "text/plain": [
       "{'Herons': 10, 'Mallards': 5, 'Sparrows': 20, 'Spoonbills': 3}"
      ]
     },
     "execution_count": 5,
     "metadata": {},
     "output_type": "execute_result"
    }
   ],
   "source": [
    "d"
   ]
  },
  {
   "cell_type": "markdown",
   "metadata": {},
   "source": [
    "Notice the order of birds has changed when d is printed out. Dictionary is an unordered data structure where as list is an ordered data structure"
   ]
  },
  {
   "cell_type": "markdown",
   "metadata": {},
   "source": [
    "#### Printing better messages"
   ]
  },
  {
   "cell_type": "code",
   "execution_count": 6,
   "metadata": {},
   "outputs": [
    {
     "name": "stdout",
     "output_type": "stream",
     "text": [
      "Mallards - 5\n",
      "Herons - 10\n",
      "Spoonbills - 3\n",
      "Sparrows - 20\n"
     ]
    }
   ],
   "source": [
    "for k,v in d.items():\n",
    "    print(\"{} - {}\".format(k,v))"
   ]
  },
  {
   "cell_type": "code",
   "execution_count": 7,
   "metadata": {},
   "outputs": [
    {
     "name": "stdout",
     "output_type": "stream",
     "text": [
      "5 Mallards\n",
      "10 Herons\n",
      "3 Spoonbills\n",
      "20 Sparrows\n"
     ]
    }
   ],
   "source": [
    "for k,v in d.items():\n",
    "    print(\"{1} {0}\".format(k,v))"
   ]
  },
  {
   "cell_type": "code",
   "execution_count": 8,
   "metadata": {},
   "outputs": [
    {
     "name": "stdout",
     "output_type": "stream",
     "text": [
      "How many sparrows did you see? 20\n"
     ]
    }
   ],
   "source": [
    "print(\"How many sparrows did you see? {Sparrows:}\".format(**d))"
   ]
  },
  {
   "cell_type": "markdown",
   "metadata": {},
   "source": [
    "Dictionaries can be passed to functions, this is known as keyword arguments. This frees us from passing the arguments in a particular order. To better explain what is happening above lets do the same using a functions"
   ]
  },
  {
   "cell_type": "code",
   "execution_count": 11,
   "metadata": {},
   "outputs": [],
   "source": [
    "def number_of_sparrows(**kwargs):\n",
    "    print(kwargs['Sparrows'])"
   ]
  },
  {
   "cell_type": "code",
   "execution_count": 12,
   "metadata": {},
   "outputs": [
    {
     "name": "stdout",
     "output_type": "stream",
     "text": [
      "20\n"
     ]
    }
   ],
   "source": [
    "number_of_sparrows(**d)"
   ]
  },
  {
   "cell_type": "code",
   "execution_count": null,
   "metadata": {},
   "outputs": [],
   "source": []
  }
 ],
 "metadata": {
  "kernelspec": {
   "display_name": "Python 3",
   "language": "python",
   "name": "python3"
  },
  "language_info": {
   "codemirror_mode": {
    "name": "ipython",
    "version": 3
   },
   "file_extension": ".py",
   "mimetype": "text/x-python",
   "name": "python",
   "nbconvert_exporter": "python",
   "pygments_lexer": "ipython3",
   "version": "3.6.4"
  }
 },
 "nbformat": 4,
 "nbformat_minor": 2
}
