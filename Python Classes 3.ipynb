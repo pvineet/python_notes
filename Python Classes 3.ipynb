{
 "cells": [
  {
   "cell_type": "code",
   "execution_count": 27,
   "metadata": {},
   "outputs": [],
   "source": [
    "class Book:\n",
    "    owner = \"SCU library\"\n",
    "    def __init__(self,name,author,available=True):\n",
    "        self.name = name\n",
    "        self.author = author\n",
    "        self.available = available\n",
    "        \n",
    "    def check_out(self):\n",
    "        if self.available == True:\n",
    "            self.available = False\n",
    "            return self.name + \" checked out\"\n",
    "        else:\n",
    "            return self.name + \" not available\"\n",
    "        \n",
    "    def get_details(self):\n",
    "        return self.name + \" by \" + self.author + \" availibilty = \" + str(self.available)"
   ]
  },
  {
   "cell_type": "markdown",
   "metadata": {},
   "source": [
    "Let us look at inheritance now.\n",
    "What to do if we want to add ebooks to library? Make a child class"
   ]
  },
  {
   "cell_type": "code",
   "execution_count": 28,
   "metadata": {},
   "outputs": [],
   "source": [
    "class Ebook(Book):\n",
    "    def __init__(self, name, author, url):\n",
    "        self.name = name\n",
    "        self.author = author\n",
    "        self.url = url\n",
    "        #Unlimited copies of ebooks can be checked out\n",
    "        self.available = True"
   ]
  },
  {
   "cell_type": "code",
   "execution_count": 29,
   "metadata": {},
   "outputs": [],
   "source": [
    "EISBN = Ebook(\"Harry Potter and Prisoner of Azkaban\", \"J. K Rowling\", \"www.google.com\")"
   ]
  },
  {
   "cell_type": "code",
   "execution_count": 30,
   "metadata": {},
   "outputs": [
    {
     "data": {
      "text/plain": [
       "'SCU library'"
      ]
     },
     "execution_count": 30,
     "metadata": {},
     "output_type": "execute_result"
    }
   ],
   "source": [
    "EISBN.owner"
   ]
  },
  {
   "cell_type": "code",
   "execution_count": 31,
   "metadata": {},
   "outputs": [
    {
     "data": {
      "text/plain": [
       "'Harry Potter and Prisoner of Azkaban not available'"
      ]
     },
     "execution_count": 31,
     "metadata": {},
     "output_type": "execute_result"
    }
   ],
   "source": [
    "EISBN1.check_out()"
   ]
  },
  {
   "cell_type": "markdown",
   "metadata": {},
   "source": [
    "## A better idea\n",
    "Will be to provide the url when we check out the ebook. Lets modify the Ebook class for this by overriding the check_out function"
   ]
  },
  {
   "cell_type": "code",
   "execution_count": 41,
   "metadata": {},
   "outputs": [],
   "source": [
    "class Ebook1(Book):\n",
    "    def __init__(self, name, author, url):\n",
    "        self.name = name\n",
    "        self.author = author\n",
    "        self.url = url\n",
    "        #Unlimited copies of ebooks can be checked out\n",
    "        self.available = True\n",
    "        \n",
    "    def check_out(self):\n",
    "        return self.name + \" available at \" + self.url"
   ]
  },
  {
   "cell_type": "code",
   "execution_count": 42,
   "metadata": {},
   "outputs": [],
   "source": [
    "EISBN1 = Ebook1(\"Harry Potter and Prisoner of Azkaban\", \"J. K Rowling\", \"www.google.com\")"
   ]
  },
  {
   "cell_type": "code",
   "execution_count": 45,
   "metadata": {},
   "outputs": [
    {
     "data": {
      "text/plain": [
       "'Harry Potter and Prisoner of Azkaban available at www.google.com'"
      ]
     },
     "execution_count": 45,
     "metadata": {},
     "output_type": "execute_result"
    }
   ],
   "source": [
    "EISBN1.check_out()\n",
    "#polymorphism"
   ]
  },
  {
   "cell_type": "markdown",
   "metadata": {},
   "source": [
    "What will be the output of EISBN1.get_details()?"
   ]
  },
  {
   "cell_type": "code",
   "execution_count": 46,
   "metadata": {},
   "outputs": [
    {
     "data": {
      "text/plain": [
       "'Harry Potter and Prisoner of Azkaban by J. K Rowling availibilty = True'"
      ]
     },
     "execution_count": 46,
     "metadata": {},
     "output_type": "execute_result"
    }
   ],
   "source": [
    "EISBN1.get_details()\n",
    "#inheritance"
   ]
  },
  {
   "cell_type": "markdown",
   "metadata": {},
   "source": [
    "The above function calls get_details from the parent class - the Book class"
   ]
  },
  {
   "cell_type": "code",
   "execution_count": null,
   "metadata": {},
   "outputs": [],
   "source": []
  }
 ],
 "metadata": {
  "kernelspec": {
   "display_name": "Python 3",
   "language": "python",
   "name": "python3"
  },
  "language_info": {
   "codemirror_mode": {
    "name": "ipython",
    "version": 3
   },
   "file_extension": ".py",
   "mimetype": "text/x-python",
   "name": "python",
   "nbconvert_exporter": "python",
   "pygments_lexer": "ipython3",
   "version": "3.6.4"
  }
 },
 "nbformat": 4,
 "nbformat_minor": 2
}
